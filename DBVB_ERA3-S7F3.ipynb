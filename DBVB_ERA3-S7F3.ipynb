{
 "cells": [
  {
   "cell_type": "markdown",
   "id": "243d00c4-0f55-4061-99c2-3afbf9046610",
   "metadata": {},
   "source": [
    "# Step 3\n",
    "\n",
    "### Target\n",
    "- Implement Image augmentation (Random Rotation of 5 to 7 degrees)\n",
    "- Implement Step LR policy\n",
    "- Check Adam and SGD optimizers for better accuracy\n",
    "\n",
    "### Result\n",
    "- Parameters: 7,984\n",
    "- Best Training Accuracy: 99.30% (13th Epoch)\n",
    "- Best Test Accuracy: 99.44% (15th Epoch)\n",
    "\n",
    "### Analysis\n",
    "- Number of model parameters is the required limit of 8K\n",
    "- The difference betwen training and test accuracy is minimal and model is consistently underfitting (in all epochs)\n",
    "- Model's test accuracy is consistent in the range of 99.37% to 98.44% (Epochs 7 to 15)\n",
    "- SGD Optimizer (99.44% best accuracy) gave a slightly better accuracy than Adam optimizer (99.38% best accuracy), remaining all parameters were being the same\n",
    "- Increased the capacity of the model by adding a layer after GAP!\n"
   ]
  },
  {
   "cell_type": "markdown",
   "id": "b178203d-dcba-4156-b4de-23a2300aa899",
   "metadata": {},
   "source": [
    "### Import Libraries"
   ]
  },
  {
   "cell_type": "code",
   "execution_count": 1,
   "id": "d7641ab5-5634-4516-9582-e854cec7948c",
   "metadata": {},
   "outputs": [],
   "source": [
    "from __future__ import print_function\n",
    "import torch\n",
    "import torch.nn as nn\n",
    "import torch.nn.functional as F\n",
    "import torch.optim as optim\n",
    "from torchvision import datasets, transforms"
   ]
  },
  {
   "cell_type": "markdown",
   "id": "d1ab1205-7a69-4612-8e66-e4469437e270",
   "metadata": {},
   "source": [
    "### Perform Data Transformations, Image augmentations"
   ]
  },
  {
   "cell_type": "code",
   "execution_count": 2,
   "id": "5721b5a2-81cc-41c4-93c3-870f1522ff26",
   "metadata": {},
   "outputs": [],
   "source": [
    "# Train Phase transformations\n",
    "train_transforms = transforms.Compose([\n",
    "                   # transforms.Resize((28, 28)),\n",
    "                   # transforms.ColorJitter(brightness=0.10, contrast=0.1, saturation=0.10, hue=0.1),\n",
    "                   transforms.RandomRotation((-7.0, 7.0), fill=(1,)),    \n",
    "                   transforms.ToTensor(),\n",
    "                   transforms.Normalize((0.1307,), (0.3081,)) # The mean and std have to be sequences (e.g., tuples), therefore you should add a comma after the values.\n",
    "                   # Note the difference between (0.1307) and (0.1307,)\n",
    "                   ])\n",
    "\n",
    "# Test Phase transformations\n",
    "test_transforms = transforms.Compose([\n",
    "                   # transforms.Resize((28, 28)),\n",
    "                   # transforms.ColorJitter(brightness=0.10, contrast=0.1, saturation=0.10, hue=0.1),\n",
    "                   transforms.ToTensor(),\n",
    "                   transforms.Normalize((0.1307,), (0.3081,))\n",
    "                   ])\n"
   ]
  },
  {
   "cell_type": "markdown",
   "id": "0ba8cd19-a512-4b44-87f1-597e8a77b7fb",
   "metadata": {},
   "source": [
    "### Download Dataset and Create Train/Test Split"
   ]
  },
  {
   "cell_type": "code",
   "execution_count": 3,
   "id": "c425d1fb-095c-4cf2-9358-00fdb31f510a",
   "metadata": {},
   "outputs": [],
   "source": [
    "train = datasets.MNIST('./data', train=True, download=True, transform=train_transforms)\n",
    "test = datasets.MNIST('./data', train=False, download=True, transform=test_transforms)"
   ]
  },
  {
   "cell_type": "markdown",
   "id": "1b0a7533-b513-46c3-9a37-4c7b1b6de31c",
   "metadata": {},
   "source": [
    "### Initialize Dataloader Arguments & Test/Train Dataloaders"
   ]
  },
  {
   "cell_type": "code",
   "execution_count": 4,
   "id": "e97fd8bd-e7cb-41da-b6c7-5f06e0007f32",
   "metadata": {},
   "outputs": [
    {
     "name": "stdout",
     "output_type": "stream",
     "text": [
      "CUDA Available? True\n"
     ]
    }
   ],
   "source": [
    "SEED = 5\n",
    "BATCH_SIZE = 128\n",
    "CUDA_BATCH_SIZE = 64\n",
    "\n",
    "# Use CUDA if available\n",
    "cuda = torch.cuda.is_available()\n",
    "print(\"CUDA Available?\", cuda)\n",
    "\n",
    "# For reproducibility\n",
    "torch.manual_seed(SEED)\n",
    "\n",
    "if cuda:\n",
    "    torch.cuda.manual_seed(SEED)\n",
    "\n",
    "# Dataloader arguments \n",
    "dataloader_args = dict(shuffle=True, batch_size=BATCH_SIZE, num_workers=2, pin_memory=True) if cuda else dict(shuffle=True, batch_size=CUDA_BATCH_SIZE)\n",
    "\n",
    "# Train dataloader\n",
    "train_loader = torch.utils.data.DataLoader(train, **dataloader_args)\n",
    "\n",
    "# Test dataloader\n",
    "test_loader = torch.utils.data.DataLoader(test, **dataloader_args)"
   ]
  },
  {
   "cell_type": "markdown",
   "id": "54232098-c007-45a3-be16-bc94aeb81347",
   "metadata": {},
   "source": [
    "### The Model and its parameters"
   ]
  },
  {
   "cell_type": "code",
   "execution_count": 5,
   "id": "f7954d1a-b01f-404e-8a5c-38622907afe1",
   "metadata": {},
   "outputs": [],
   "source": [
    "# This notebook experiment uses Net2() model in Models.py\n",
    "from Models import get_model5, save_model"
   ]
  },
  {
   "cell_type": "markdown",
   "id": "a200f2d1-daeb-4ab9-be33-a334bd291f51",
   "metadata": {},
   "source": [
    "### Model Summary"
   ]
  },
  {
   "cell_type": "code",
   "execution_count": 6,
   "id": "2744126c-777f-4bab-8edc-225dec6659be",
   "metadata": {},
   "outputs": [
    {
     "name": "stdout",
     "output_type": "stream",
     "text": [
      "cuda\n",
      "----------------------------------------------------------------\n",
      "        Layer (type)               Output Shape         Param #\n",
      "================================================================\n",
      "            Conv2d-1           [-1, 16, 26, 26]             144\n",
      "       BatchNorm2d-2           [-1, 16, 26, 26]              32\n",
      "              ReLU-3           [-1, 16, 26, 26]               0\n",
      "           Dropout-4           [-1, 16, 26, 26]               0\n",
      "            Conv2d-5           [-1, 16, 24, 24]           2,304\n",
      "       BatchNorm2d-6           [-1, 16, 24, 24]              32\n",
      "              ReLU-7           [-1, 16, 24, 24]               0\n",
      "           Dropout-8           [-1, 16, 24, 24]               0\n",
      "         MaxPool2d-9           [-1, 16, 12, 12]               0\n",
      "           Conv2d-10           [-1, 12, 10, 10]           1,728\n",
      "      BatchNorm2d-11           [-1, 12, 10, 10]              24\n",
      "             ReLU-12           [-1, 12, 10, 10]               0\n",
      "          Dropout-13           [-1, 12, 10, 10]               0\n",
      "           Conv2d-14             [-1, 12, 8, 8]           1,296\n",
      "      BatchNorm2d-15             [-1, 12, 8, 8]              24\n",
      "             ReLU-16             [-1, 12, 8, 8]               0\n",
      "           Conv2d-17             [-1, 20, 6, 6]           2,160\n",
      "      BatchNorm2d-18             [-1, 20, 6, 6]              40\n",
      "             ReLU-19             [-1, 20, 6, 6]               0\n",
      "        AvgPool2d-20             [-1, 20, 1, 1]               0\n",
      "           Conv2d-21             [-1, 10, 1, 1]             200\n",
      "================================================================\n",
      "Total params: 7,984\n",
      "Trainable params: 7,984\n",
      "Non-trainable params: 0\n",
      "----------------------------------------------------------------\n",
      "Input size (MB): 0.00\n",
      "Forward/backward pass size (MB): 0.70\n",
      "Params size (MB): 0.03\n",
      "Estimated Total Size (MB): 0.73\n",
      "----------------------------------------------------------------\n"
     ]
    }
   ],
   "source": [
    "from torchsummary import summary\n",
    "use_cuda = torch.cuda.is_available()\n",
    "device = torch.device(\"cuda\" if use_cuda else \"cpu\")\n",
    "print(device)\n",
    "model = get_model5().to(device)\n",
    "summary(model, input_size=(1, 28, 28))"
   ]
  },
  {
   "cell_type": "markdown",
   "id": "211d8393-5401-4162-a64e-23efde9fdad9",
   "metadata": {},
   "source": [
    "### Define the functions for Training and Testing"
   ]
  },
  {
   "cell_type": "code",
   "execution_count": 7,
   "id": "0e6d40ae-b027-46c0-b507-85f85e58f55e",
   "metadata": {},
   "outputs": [],
   "source": [
    "from tqdm import tqdm\n",
    "\n",
    "train_losses = []\n",
    "test_losses = []\n",
    "train_acc = []\n",
    "test_acc = []\n",
    "\n",
    "def train(model, device, train_loader, optimizer, epoch):\n",
    "  model.train()\n",
    "  pbar = tqdm(train_loader)\n",
    "  correct = 0\n",
    "  processed = 0\n",
    "  for batch_idx, (data, target) in enumerate(pbar):\n",
    "    # Get samples\n",
    "    data, target = data.to(device), target.to(device)\n",
    "\n",
    "    # Init\n",
    "    optimizer.zero_grad()\n",
    "    # In PyTorch, we need to set the gradients to zero before starting to do backpropragation because PyTorch accumulates the gradients on subsequent backward passes.\n",
    "    # Because of this, when you start your training loop, ideally you should zero out the gradients so that you do the parameter update correctly.\n",
    "\n",
    "    # Predict\n",
    "    y_pred = model(data)\n",
    "\n",
    "    # Calculate loss\n",
    "    loss = F.nll_loss(y_pred, target)\n",
    "    train_losses.append(loss)\n",
    "\n",
    "    # Backpropagation\n",
    "    loss.backward()\n",
    "    optimizer.step()\n",
    "\n",
    "    # Update pbar-tqdm\n",
    "    pred = y_pred.argmax(dim=1, keepdim=True)  # get the index of the max log-probability\n",
    "    correct += pred.eq(target.view_as(pred)).sum().item()\n",
    "    processed += len(data)\n",
    "\n",
    "    pbar.set_description(desc= f'Training: Batch_id={batch_idx} Loss={loss.item()} Accuracy={100 * correct / processed:0.2f}')\n",
    "    train_acc.append(100 * correct / processed)\n",
    "\n",
    "def test(model, device, test_loader):\n",
    "    model.eval()\n",
    "    test_loss = 0\n",
    "    correct = 0\n",
    "    with torch.no_grad():\n",
    "        for data, target in test_loader:\n",
    "            data, target = data.to(device), target.to(device)\n",
    "            output = model(data)\n",
    "            test_loss += F.nll_loss(output, target, reduction='sum').item()     # sum up batch loss\n",
    "            pred = output.argmax(dim=1, keepdim=True)                           # get the index of the max log-probability\n",
    "            correct += pred.eq(target.view_as(pred)).sum().item()\n",
    "\n",
    "    test_loss /= len(test_loader.dataset)\n",
    "    test_losses.append(test_loss)\n",
    "\n",
    "    accuracy = 100. * correct / len(test_loader.dataset)\n",
    "    print('Test set: Average loss: {:.4f}, Accuracy: {}/{} ({:.2f}%)\\n'.format(\n",
    "        test_loss, correct, len(test_loader.dataset), accuracy))\n",
    "\n",
    "    test_acc.append(accuracy)\n",
    "    return accuracy  # Return the accuracy for the scheduler"
   ]
  },
  {
   "cell_type": "markdown",
   "id": "89cbe12f-0e56-44f1-baf4-955f9636dd37",
   "metadata": {},
   "source": [
    "### Let's Train and test our model"
   ]
  },
  {
   "cell_type": "code",
   "execution_count": 8,
   "id": "8047c66f-802a-4159-8039-6fd435a597b8",
   "metadata": {},
   "outputs": [
    {
     "name": "stdout",
     "output_type": "stream",
     "text": [
      "\n",
      "Using SGD optimizer ... \n"
     ]
    }
   ],
   "source": [
    "# Set the flag useAdamOpt to True to use Adam or False to use SGD\n",
    "useAdamOpt = False\n",
    "initialLR = 0.14\n",
    "model = get_model5().to(device)\n",
    "\n",
    "if useAdamOpt:\n",
    "    optimizer = optim.Adam(model.parameters(), lr=initialLR, betas=(0.9, 0.999), eps=1e-08)\n",
    "    print(\"\\nUsing Adam optimizer ... \")\n",
    "else:\n",
    "    optimizer = optim.SGD(model.parameters(), lr=initialLR, momentum=0.90)\n",
    "    print(\"\\nUsing SGD optimizer ... \")"
   ]
  },
  {
   "cell_type": "code",
   "execution_count": 9,
   "id": "68b65778-229c-4ac9-abe4-2fd5a6632c5c",
   "metadata": {
    "scrolled": true
   },
   "outputs": [
    {
     "name": "stdout",
     "output_type": "stream",
     "text": [
      "EPOCH: 1\n"
     ]
    },
    {
     "name": "stderr",
     "output_type": "stream",
     "text": [
      "Training: Batch_id=468 Loss=0.12760871648788452 Accuracy=93.13: 100%|████████████████| 469/469 [00:13<00:00, 35.42it/s]\n"
     ]
    },
    {
     "name": "stdout",
     "output_type": "stream",
     "text": [
      "Test set: Average loss: 0.0489, Accuracy: 9850/10000 (98.50%)\n",
      "\n",
      "EPOCH: 2\n"
     ]
    },
    {
     "name": "stderr",
     "output_type": "stream",
     "text": [
      "Training: Batch_id=468 Loss=0.21119089424610138 Accuracy=97.94: 100%|████████████████| 469/469 [00:13<00:00, 35.02it/s]\n"
     ]
    },
    {
     "name": "stdout",
     "output_type": "stream",
     "text": [
      "Test set: Average loss: 0.0421, Accuracy: 9859/10000 (98.59%)\n",
      "\n",
      "EPOCH: 3\n"
     ]
    },
    {
     "name": "stderr",
     "output_type": "stream",
     "text": [
      "Training: Batch_id=468 Loss=0.04768958315253258 Accuracy=98.36: 100%|████████████████| 469/469 [00:13<00:00, 35.29it/s]\n"
     ]
    },
    {
     "name": "stdout",
     "output_type": "stream",
     "text": [
      "Test set: Average loss: 0.0309, Accuracy: 9904/10000 (99.04%)\n",
      "\n",
      "EPOCH: 4\n"
     ]
    },
    {
     "name": "stderr",
     "output_type": "stream",
     "text": [
      "Training: Batch_id=468 Loss=0.011956781148910522 Accuracy=98.51: 100%|███████████████| 469/469 [00:13<00:00, 34.77it/s]\n"
     ]
    },
    {
     "name": "stdout",
     "output_type": "stream",
     "text": [
      "Test set: Average loss: 0.0351, Accuracy: 9881/10000 (98.81%)\n",
      "\n",
      "EPOCH: 5\n"
     ]
    },
    {
     "name": "stderr",
     "output_type": "stream",
     "text": [
      "Training: Batch_id=468 Loss=0.05275696516036987 Accuracy=98.69: 100%|████████████████| 469/469 [00:13<00:00, 35.13it/s]\n"
     ]
    },
    {
     "name": "stdout",
     "output_type": "stream",
     "text": [
      "Test set: Average loss: 0.0232, Accuracy: 9928/10000 (99.28%)\n",
      "\n",
      "EPOCH: 6\n"
     ]
    },
    {
     "name": "stderr",
     "output_type": "stream",
     "text": [
      "Training: Batch_id=468 Loss=0.0046367826871573925 Accuracy=99.08: 100%|██████████████| 469/469 [00:13<00:00, 34.65it/s]\n"
     ]
    },
    {
     "name": "stdout",
     "output_type": "stream",
     "text": [
      "Test set: Average loss: 0.0210, Accuracy: 9930/10000 (99.30%)\n",
      "\n",
      "EPOCH: 7\n"
     ]
    },
    {
     "name": "stderr",
     "output_type": "stream",
     "text": [
      "Training: Batch_id=468 Loss=0.0037016363348811865 Accuracy=99.11: 100%|██████████████| 469/469 [00:13<00:00, 35.10it/s]\n"
     ]
    },
    {
     "name": "stdout",
     "output_type": "stream",
     "text": [
      "Test set: Average loss: 0.0198, Accuracy: 9937/10000 (99.37%)\n",
      "\n",
      "EPOCH: 8\n"
     ]
    },
    {
     "name": "stderr",
     "output_type": "stream",
     "text": [
      "Training: Batch_id=468 Loss=0.011792969889938831 Accuracy=99.21: 100%|███████████████| 469/469 [00:13<00:00, 35.17it/s]\n"
     ]
    },
    {
     "name": "stdout",
     "output_type": "stream",
     "text": [
      "Test set: Average loss: 0.0201, Accuracy: 9939/10000 (99.39%)\n",
      "\n",
      "EPOCH: 9\n"
     ]
    },
    {
     "name": "stderr",
     "output_type": "stream",
     "text": [
      "Training: Batch_id=468 Loss=0.029030082747340202 Accuracy=99.24: 100%|███████████████| 469/469 [00:13<00:00, 35.10it/s]\n"
     ]
    },
    {
     "name": "stdout",
     "output_type": "stream",
     "text": [
      "Test set: Average loss: 0.0192, Accuracy: 9940/10000 (99.40%)\n",
      "\n",
      "EPOCH: 10\n"
     ]
    },
    {
     "name": "stderr",
     "output_type": "stream",
     "text": [
      "Training: Batch_id=468 Loss=0.012134544551372528 Accuracy=99.22: 100%|███████████████| 469/469 [00:13<00:00, 34.88it/s]\n"
     ]
    },
    {
     "name": "stdout",
     "output_type": "stream",
     "text": [
      "Test set: Average loss: 0.0192, Accuracy: 9940/10000 (99.40%)\n",
      "\n",
      "EPOCH: 11\n"
     ]
    },
    {
     "name": "stderr",
     "output_type": "stream",
     "text": [
      "Training: Batch_id=468 Loss=0.0336105152964592 Accuracy=99.22: 100%|█████████████████| 469/469 [00:13<00:00, 35.01it/s]\n"
     ]
    },
    {
     "name": "stdout",
     "output_type": "stream",
     "text": [
      "Test set: Average loss: 0.0195, Accuracy: 9939/10000 (99.39%)\n",
      "\n",
      "EPOCH: 12\n"
     ]
    },
    {
     "name": "stderr",
     "output_type": "stream",
     "text": [
      "Training: Batch_id=468 Loss=0.011235085316002369 Accuracy=99.28: 100%|███████████████| 469/469 [00:13<00:00, 34.87it/s]\n"
     ]
    },
    {
     "name": "stdout",
     "output_type": "stream",
     "text": [
      "Test set: Average loss: 0.0191, Accuracy: 9942/10000 (99.42%)\n",
      "\n",
      "EPOCH: 13\n"
     ]
    },
    {
     "name": "stderr",
     "output_type": "stream",
     "text": [
      "Training: Batch_id=468 Loss=0.015942825004458427 Accuracy=99.30: 100%|███████████████| 469/469 [00:13<00:00, 34.60it/s]\n"
     ]
    },
    {
     "name": "stdout",
     "output_type": "stream",
     "text": [
      "Test set: Average loss: 0.0187, Accuracy: 9943/10000 (99.43%)\n",
      "\n",
      "EPOCH: 14\n"
     ]
    },
    {
     "name": "stderr",
     "output_type": "stream",
     "text": [
      "Training: Batch_id=468 Loss=0.03161631152033806 Accuracy=99.23: 100%|████████████████| 469/469 [00:13<00:00, 35.20it/s]\n"
     ]
    },
    {
     "name": "stdout",
     "output_type": "stream",
     "text": [
      "Test set: Average loss: 0.0194, Accuracy: 9940/10000 (99.40%)\n",
      "\n",
      "EPOCH: 15\n"
     ]
    },
    {
     "name": "stderr",
     "output_type": "stream",
     "text": [
      "Training: Batch_id=468 Loss=0.014659672044217587 Accuracy=99.28: 100%|███████████████| 469/469 [00:13<00:00, 34.93it/s]\n"
     ]
    },
    {
     "name": "stdout",
     "output_type": "stream",
     "text": [
      "Test set: Average loss: 0.0191, Accuracy: 9944/10000 (99.44%)\n",
      "\n"
     ]
    }
   ],
   "source": [
    "scheduler = optim.lr_scheduler.StepLR(optimizer, step_size=5, gamma=0.1)\n",
    "\n",
    "EPOCHS = 15\n",
    "for epoch in range(EPOCHS):\n",
    "    print(\"EPOCH:\", epoch+1)\n",
    "    train(model, device, train_loader, optimizer, epoch)\n",
    "    accuracy = test(model, device, test_loader)  # Get the accuracy\n",
    "    # scheduler.step(accuracy)  # Pass the accuracy to scheduler\n",
    "    scheduler.step()     # This is for StepLR\n"
   ]
  },
  {
   "cell_type": "markdown",
   "id": "f201fbcf-e8cb-4bb2-9e74-34ad2193165d",
   "metadata": {},
   "source": [
    "### Plot the Training and Tests - Accuracy and losses"
   ]
  },
  {
   "cell_type": "code",
   "execution_count": 10,
   "id": "13f94533-4a91-4df0-8511-99246fff9e88",
   "metadata": {},
   "outputs": [],
   "source": [
    "t = [t_items.item() for t_items in train_losses]"
   ]
  },
  {
   "cell_type": "code",
   "execution_count": 11,
   "id": "a903a550-26ef-44cb-888f-a41dcd44f5d3",
   "metadata": {},
   "outputs": [
    {
     "data": {
      "text/plain": [
       "Text(0.5, 1.0, 'Test Accuracy')"
      ]
     },
     "execution_count": 11,
     "metadata": {},
     "output_type": "execute_result"
    },
    {
     "data": {
      "image/png": "[encoded data removed]",
      "text/plain": [
       "<Figure size 1500x1000 with 4 Axes>"
      ]
     },
     "metadata": {},
     "output_type": "display_data"
    }
   ],
   "source": [
    "import matplotlib.pyplot as plt\n",
    "\n",
    "fig, axs = plt.subplots(2,2,figsize=(15, 10))\n",
    "axs[0, 0].plot(t)\n",
    "axs[0, 0].set_title(\"Training Loss\")\n",
    "axs[1, 0].plot(train_acc)\n",
    "axs[1, 0].set_title(\"Training Accuracy\")\n",
    "axs[0, 1].plot(test_losses)\n",
    "axs[0, 1].set_title(\"Test Loss\")\n",
    "axs[1, 1].plot(test_acc)\n",
    "axs[1, 1].set_title(\"Test Accuracy\")"
   ]
  },
  {
   "cell_type": "code",
   "execution_count": null,
   "id": "21837d62-74d5-4c0b-8167-2f2661c859c8",
   "metadata": {},
   "outputs": [],
   "source": []
  }
 ],
 "metadata": {
  "kernelspec": {
   "display_name": "Pytorch 2.5 (pytorch)",
   "language": "python",
   "name": "pytorch25"
  },
  "language_info": {
   "codemirror_mode": {
    "name": "ipython",
    "version": 3
   },
   "file_extension": ".py",
   "mimetype": "text/x-python",
   "name": "python",
   "nbconvert_exporter": "python",
   "pygments_lexer": "ipython3",
   "version": "3.12.7"
  }
 },
 "nbformat": 4,
 "nbformat_minor": 5
}
